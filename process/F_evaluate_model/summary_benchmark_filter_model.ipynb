{
 "cells": [
  {
   "cell_type": "code",
   "execution_count": 7,
   "metadata": {
    "collapsed": false,
    "execution": {
     "iopub.execute_input": "2023-02-06T20:28:19.755426Z",
     "iopub.status.busy": "2023-02-06T20:28:19.754292Z",
     "iopub.status.idle": "2023-02-06T20:28:19.759158Z",
     "shell.execute_reply": "2023-02-06T20:28:19.758464Z",
     "shell.execute_reply.started": "2023-02-06T20:28:19.755392Z"
    },
    "jupyter": {
     "outputs_hidden": false
    }
   },
   "outputs": [],
   "source": [
    "models = ['xg boost', 'linear regression', 'knn', 'decision tree', 'random forest', 'catboost','light gradient boosting', 'neural network']\n",
    "model = None  #'xg boost'\n",
    "model = 'xg'\n",
    "original_model = model\n",
    "h = -1"
   ]
  },
  {
   "cell_type": "code",
   "execution_count": 8,
   "metadata": {
    "execution": {
     "iopub.execute_input": "2023-02-06T20:28:19.886934Z",
     "iopub.status.busy": "2023-02-06T20:28:19.886594Z",
     "iopub.status.idle": "2023-02-06T20:28:19.916540Z",
     "shell.execute_reply": "2023-02-06T20:28:19.915781Z",
     "shell.execute_reply.started": "2023-02-06T20:28:19.886904Z"
    }
   },
   "outputs": [
    {
     "name": "stdout",
     "output_type": "stream",
     "text": [
      "0/8: xg\n"
     ]
    },
    {
     "data": {
      "text/plain": "                                  best score   best time  \\\nxg boost (tree) (v11)               0.731739   71.020266   \nstacked model [knn,lgb,xgb] (v06)   0.730645   18.923249   \nxg boost (tree) (v09)               0.728969   89.213733   \nxg boost (tree) (v06)               0.727132  134.174901   \nxg boost (tree) (v10)               0.726364   69.306042   \n\n                                  Mean Absolute Error Accuracy  \\\nxg boost (tree) (v11)                              41595.33032   \nstacked model [knn,lgb,xgb] (v06)                 41910.641478   \nxg boost (tree) (v09)                             55307.269346   \nxg boost (tree) (v06)                             42214.988358   \nxg boost (tree) (v10)                             53862.879238   \n\n                                  Mean Squared Error Accuracy  \\\nxg boost (tree) (v11)                       3030387686.140499   \nstacked model [knn,lgb,xgb] (v06)           3042745935.730062   \nxg boost (tree) (v09)                       4975738225.821958   \nxg boost (tree) (v06)                       3096014871.208212   \nxg boost (tree) (v10)                       4637047146.122003   \n\n                                  R square Accuracy Root Mean Squared Error  \\\nxg boost (tree) (v11)                      0.731739            55048.957176   \nstacked model [knn,lgb,xgb] (v06)          0.730645            55161.090777   \nxg boost (tree) (v09)                      0.559529            70538.912848   \nxg boost (tree) (v06)                      0.725929            55641.844606   \nxg boost (tree) (v10)                      0.589511             68095.86732   \n\n                                                best run date    best method  \\\nxg boost (tree) (v11)              2023-01-02 18:02:37.951724         custom   \nstacked model [knn,lgb,xgb] (v06)  2023-02-07 11:11:42.105711  random search   \nxg boost (tree) (v09)              2023-01-02 16:33:38.004418         custom   \nxg boost (tree) (v06)              2022-12-07 09:43:37.103009  random search   \nxg boost (tree) (v10)              2023-01-02 17:58:16.959076         custom   \n\n                                  best is shared  suboptimal  \nxg boost (tree) (v11)                      False     pending  \nstacked model [knn,lgb,xgb] (v06)          False     pending  \nxg boost (tree) (v09)                      False  suboptimal  \nxg boost (tree) (v06)                      False  suboptimal  \nxg boost (tree) (v10)                      False  suboptimal  ",
      "text/html": "<div>\n<style scoped>\n    .dataframe tbody tr th:only-of-type {\n        vertical-align: middle;\n    }\n\n    .dataframe tbody tr th {\n        vertical-align: top;\n    }\n\n    .dataframe thead th {\n        text-align: right;\n    }\n</style>\n<table border=\"1\" class=\"dataframe\">\n  <thead>\n    <tr style=\"text-align: right;\">\n      <th></th>\n      <th>best score</th>\n      <th>best time</th>\n      <th>Mean Absolute Error Accuracy</th>\n      <th>Mean Squared Error Accuracy</th>\n      <th>R square Accuracy</th>\n      <th>Root Mean Squared Error</th>\n      <th>best run date</th>\n      <th>best method</th>\n      <th>best is shared</th>\n      <th>suboptimal</th>\n    </tr>\n  </thead>\n  <tbody>\n    <tr>\n      <th>xg boost (tree) (v11)</th>\n      <td>0.731739</td>\n      <td>71.020266</td>\n      <td>41595.33032</td>\n      <td>3030387686.140499</td>\n      <td>0.731739</td>\n      <td>55048.957176</td>\n      <td>2023-01-02 18:02:37.951724</td>\n      <td>custom</td>\n      <td>False</td>\n      <td>pending</td>\n    </tr>\n    <tr>\n      <th>stacked model [knn,lgb,xgb] (v06)</th>\n      <td>0.730645</td>\n      <td>18.923249</td>\n      <td>41910.641478</td>\n      <td>3042745935.730062</td>\n      <td>0.730645</td>\n      <td>55161.090777</td>\n      <td>2023-02-07 11:11:42.105711</td>\n      <td>random search</td>\n      <td>False</td>\n      <td>pending</td>\n    </tr>\n    <tr>\n      <th>xg boost (tree) (v09)</th>\n      <td>0.728969</td>\n      <td>89.213733</td>\n      <td>55307.269346</td>\n      <td>4975738225.821958</td>\n      <td>0.559529</td>\n      <td>70538.912848</td>\n      <td>2023-01-02 16:33:38.004418</td>\n      <td>custom</td>\n      <td>False</td>\n      <td>suboptimal</td>\n    </tr>\n    <tr>\n      <th>xg boost (tree) (v06)</th>\n      <td>0.727132</td>\n      <td>134.174901</td>\n      <td>42214.988358</td>\n      <td>3096014871.208212</td>\n      <td>0.725929</td>\n      <td>55641.844606</td>\n      <td>2022-12-07 09:43:37.103009</td>\n      <td>random search</td>\n      <td>False</td>\n      <td>suboptimal</td>\n    </tr>\n    <tr>\n      <th>xg boost (tree) (v10)</th>\n      <td>0.726364</td>\n      <td>69.306042</td>\n      <td>53862.879238</td>\n      <td>4637047146.122003</td>\n      <td>0.589511</td>\n      <td>68095.86732</td>\n      <td>2023-01-02 17:58:16.959076</td>\n      <td>custom</td>\n      <td>False</td>\n      <td>suboptimal</td>\n    </tr>\n  </tbody>\n</table>\n</div>"
     },
     "execution_count": 8,
     "metadata": {},
     "output_type": "execute_result"
    }
   ],
   "source": [
    "import pandas as pd\n",
    "\n",
    "if not original_model:\n",
    "    h = (h + 1) % len(models)\n",
    "    model = models[h]\n",
    "print(f'{h + 1}/{len(models)}: {model}')\n",
    "\n",
    "dff = pd.read_json('results.json')\n",
    "\n",
    "#version = 'v11'\n",
    "#version = 'v09'\n",
    "version = 'all'\n",
    "\n",
    "vNN_columns = dff.columns if version == 'all' else [c for c in dff.columns if version in c]\n",
    "if model != 'all': vNN_columns = [c for c in dff.columns if model in c]\n",
    "\n",
    "dataset_versions_df = dff[vNN_columns].T.sort_values(\"best score\", ascending=False)\n",
    "dataset_versions_df_summary = dataset_versions_df[\n",
    "    ['best score', 'best time', 'Mean Absolute Error Accuracy', 'Mean Squared Error Accuracy', 'R square Accuracy',\n",
    "     'Root Mean Squared Error', 'best run date', 'best method', 'best is shared', \"suboptimal\"]]\n",
    "dataset_versions_df_summary"
   ]
  },
  {
   "cell_type": "code",
   "execution_count": 9,
   "metadata": {
    "execution": {
     "iopub.execute_input": "2023-02-06T20:28:20.060913Z",
     "iopub.status.busy": "2023-02-06T20:28:20.059940Z",
     "iopub.status.idle": "2023-02-06T20:28:20.078428Z",
     "shell.execute_reply": "2023-02-06T20:28:20.077534Z",
     "shell.execute_reply.started": "2023-02-06T20:28:20.060882Z"
    }
   },
   "outputs": [
    {
     "data": {
      "text/plain": "                                  Mean Absolute Error Accuracy  \\\nxg boost (tree) (v11)                              41595.33032   \nstacked model [knn,lgb,xgb] (v06)                 41910.641478   \nxg boost (tree) (v09)                             55307.269346   \nxg boost (tree) (v06)                             42214.988358   \nxg boost (tree) (v10)                             53862.879238   \n\n                                  Mean Squared Error Accuracy  \\\nxg boost (tree) (v11)                       3030387686.140499   \nstacked model [knn,lgb,xgb] (v06)           3042745935.730062   \nxg boost (tree) (v09)                       4975738225.821958   \nxg boost (tree) (v06)                       3096014871.208212   \nxg boost (tree) (v10)                       4637047146.122003   \n\n                                  R square Accuracy Root Mean Squared Error  \\\nxg boost (tree) (v11)                      0.731739            55048.957176   \nstacked model [knn,lgb,xgb] (v06)          0.730645            55161.090777   \nxg boost (tree) (v09)                      0.559529            70538.912848   \nxg boost (tree) (v06)                      0.725929            55641.844606   \nxg boost (tree) (v10)                      0.589511             68095.86732   \n\n                                                           _method  \\\nxg boost (tree) (v11)                                       custom   \nstacked model [knn,lgb,xgb] (v06)                    random search   \nxg boost (tree) (v09)              random search(pca,0.99% retain)   \nxg boost (tree) (v06)                                random search   \nxg boost (tree) (v10)               random search(pca,1.0% retain)   \n\n                                                                             _params  \\\nxg boost (tree) (v11)              {'model__booster': 'dart', 'model__colsample_b...   \nstacked model [knn,lgb,xgb] (v06)  {'model__knn1__leaf_size': 3, 'model__knn1__me...   \nxg boost (tree) (v09)              {'model__booster': 'dart', 'model__colsample_b...   \nxg boost (tree) (v06)              {'model__booster': 'dart', 'model__colsample_b...   \nxg boost (tree) (v10)              {'model__booster': 'dart', 'model__colsample_b...   \n\n                                     _score _train time best is shared  \\\nxg boost (tree) (v11)              0.731739   71.020266          False   \nstacked model [knn,lgb,xgb] (v06)  0.730645   18.923249          False   \nxg boost (tree) (v09)              0.559529   20.099668          False   \nxg boost (tree) (v06)              0.725929   28.405017          False   \nxg boost (tree) (v10)              0.589511    8.942586          False   \n\n                                     best method  ...  \\\nxg boost (tree) (v11)                     custom  ...   \nstacked model [knn,lgb,xgb] (v06)  random search  ...   \nxg boost (tree) (v09)                     custom  ...   \nxg boost (tree) (v06)              random search  ...   \nxg boost (tree) (v10)                     custom  ...   \n\n                                                         date  \\\nxg boost (tree) (v11)              2023-01-02 18:02:37.951724   \nstacked model [knn,lgb,xgb] (v06)  2023-02-07 11:11:42.105711   \nxg boost (tree) (v09)              2023-01-02 18:08:25.695144   \nxg boost (tree) (v06)              2023-01-01 20:12:32.624731   \nxg boost (tree) (v10)              2023-01-03 13:26:53.991141   \n\n                                                    first run random_state  \\\nxg boost (tree) (v11)              2022-11-30 20:18:59.880879          101   \nstacked model [knn,lgb,xgb] (v06)  2023-02-07 11:11:42.105913          101   \nxg boost (tree) (v09)              2022-12-14 00:46:51.092108          101   \nxg boost (tree) (v06)              2022-12-03 00:21:25.848148          101   \nxg boost (tree) (v10)              2023-01-02 01:31:00.393253          101   \n\n                                    run_env  suboptimal  \\\nxg boost (tree) (v11)              gradient     pending   \nstacked model [knn,lgb,xgb] (v06)  gradient     pending   \nxg boost (tree) (v09)              gradient  suboptimal   \nxg boost (tree) (v06)              gradient  suboptimal   \nxg boost (tree) (v10)              gradient  suboptimal   \n\n                                               silver method  \\\nxg boost (tree) (v11)                          random search   \nstacked model [knn,lgb,xgb] (v06)                        NaN   \nxg boost (tree) (v09)              rerun best: random search   \nxg boost (tree) (v06)                          random search   \nxg boost (tree) (v10)                                 custom   \n\n                                                                       silver params  \\\nxg boost (tree) (v11)              {'model__booster': 'gbtree', 'model__early_sto...   \nstacked model [knn,lgb,xgb] (v06)                                                NaN   \nxg boost (tree) (v09)              {'model__booster': 'gbtree', 'model__colsample...   \nxg boost (tree) (v06)              {'model__booster': 'dart', 'model__colsample_b...   \nxg boost (tree) (v10)              {'model__booster': 'dart', 'model__colsample_b...   \n\n                                              silver run date silver score  \\\nxg boost (tree) (v11)              2022-11-30 20:18:59.876471     0.603614   \nstacked model [knn,lgb,xgb] (v06)                         NaN          NaN   \nxg boost (tree) (v09)              2023-01-02 00:28:32.774594     0.725406   \nxg boost (tree) (v06)              2022-12-03 00:21:25.790717     0.725989   \nxg boost (tree) (v10)              2023-01-02 17:32:03.977619      0.71985   \n\n                                  silver time  \nxg boost (tree) (v11)               14.210391  \nstacked model [knn,lgb,xgb] (v06)         NaN  \nxg boost (tree) (v09)               28.616881  \nxg boost (tree) (v06)              217.285686  \nxg boost (tree) (v10)                6.836689  \n\n[5 rows x 24 columns]",
      "text/html": "<div>\n<style scoped>\n    .dataframe tbody tr th:only-of-type {\n        vertical-align: middle;\n    }\n\n    .dataframe tbody tr th {\n        vertical-align: top;\n    }\n\n    .dataframe thead th {\n        text-align: right;\n    }\n</style>\n<table border=\"1\" class=\"dataframe\">\n  <thead>\n    <tr style=\"text-align: right;\">\n      <th></th>\n      <th>Mean Absolute Error Accuracy</th>\n      <th>Mean Squared Error Accuracy</th>\n      <th>R square Accuracy</th>\n      <th>Root Mean Squared Error</th>\n      <th>_method</th>\n      <th>_params</th>\n      <th>_score</th>\n      <th>_train time</th>\n      <th>best is shared</th>\n      <th>best method</th>\n      <th>...</th>\n      <th>date</th>\n      <th>first run</th>\n      <th>random_state</th>\n      <th>run_env</th>\n      <th>suboptimal</th>\n      <th>silver method</th>\n      <th>silver params</th>\n      <th>silver run date</th>\n      <th>silver score</th>\n      <th>silver time</th>\n    </tr>\n  </thead>\n  <tbody>\n    <tr>\n      <th>xg boost (tree) (v11)</th>\n      <td>41595.33032</td>\n      <td>3030387686.140499</td>\n      <td>0.731739</td>\n      <td>55048.957176</td>\n      <td>custom</td>\n      <td>{'model__booster': 'dart', 'model__colsample_b...</td>\n      <td>0.731739</td>\n      <td>71.020266</td>\n      <td>False</td>\n      <td>custom</td>\n      <td>...</td>\n      <td>2023-01-02 18:02:37.951724</td>\n      <td>2022-11-30 20:18:59.880879</td>\n      <td>101</td>\n      <td>gradient</td>\n      <td>pending</td>\n      <td>random search</td>\n      <td>{'model__booster': 'gbtree', 'model__early_sto...</td>\n      <td>2022-11-30 20:18:59.876471</td>\n      <td>0.603614</td>\n      <td>14.210391</td>\n    </tr>\n    <tr>\n      <th>stacked model [knn,lgb,xgb] (v06)</th>\n      <td>41910.641478</td>\n      <td>3042745935.730062</td>\n      <td>0.730645</td>\n      <td>55161.090777</td>\n      <td>random search</td>\n      <td>{'model__knn1__leaf_size': 3, 'model__knn1__me...</td>\n      <td>0.730645</td>\n      <td>18.923249</td>\n      <td>False</td>\n      <td>random search</td>\n      <td>...</td>\n      <td>2023-02-07 11:11:42.105711</td>\n      <td>2023-02-07 11:11:42.105913</td>\n      <td>101</td>\n      <td>gradient</td>\n      <td>pending</td>\n      <td>NaN</td>\n      <td>NaN</td>\n      <td>NaN</td>\n      <td>NaN</td>\n      <td>NaN</td>\n    </tr>\n    <tr>\n      <th>xg boost (tree) (v09)</th>\n      <td>55307.269346</td>\n      <td>4975738225.821958</td>\n      <td>0.559529</td>\n      <td>70538.912848</td>\n      <td>random search(pca,0.99% retain)</td>\n      <td>{'model__booster': 'dart', 'model__colsample_b...</td>\n      <td>0.559529</td>\n      <td>20.099668</td>\n      <td>False</td>\n      <td>custom</td>\n      <td>...</td>\n      <td>2023-01-02 18:08:25.695144</td>\n      <td>2022-12-14 00:46:51.092108</td>\n      <td>101</td>\n      <td>gradient</td>\n      <td>suboptimal</td>\n      <td>rerun best: random search</td>\n      <td>{'model__booster': 'gbtree', 'model__colsample...</td>\n      <td>2023-01-02 00:28:32.774594</td>\n      <td>0.725406</td>\n      <td>28.616881</td>\n    </tr>\n    <tr>\n      <th>xg boost (tree) (v06)</th>\n      <td>42214.988358</td>\n      <td>3096014871.208212</td>\n      <td>0.725929</td>\n      <td>55641.844606</td>\n      <td>random search</td>\n      <td>{'model__booster': 'dart', 'model__colsample_b...</td>\n      <td>0.725929</td>\n      <td>28.405017</td>\n      <td>False</td>\n      <td>random search</td>\n      <td>...</td>\n      <td>2023-01-01 20:12:32.624731</td>\n      <td>2022-12-03 00:21:25.848148</td>\n      <td>101</td>\n      <td>gradient</td>\n      <td>suboptimal</td>\n      <td>random search</td>\n      <td>{'model__booster': 'dart', 'model__colsample_b...</td>\n      <td>2022-12-03 00:21:25.790717</td>\n      <td>0.725989</td>\n      <td>217.285686</td>\n    </tr>\n    <tr>\n      <th>xg boost (tree) (v10)</th>\n      <td>53862.879238</td>\n      <td>4637047146.122003</td>\n      <td>0.589511</td>\n      <td>68095.86732</td>\n      <td>random search(pca,1.0% retain)</td>\n      <td>{'model__booster': 'dart', 'model__colsample_b...</td>\n      <td>0.589511</td>\n      <td>8.942586</td>\n      <td>False</td>\n      <td>custom</td>\n      <td>...</td>\n      <td>2023-01-03 13:26:53.991141</td>\n      <td>2023-01-02 01:31:00.393253</td>\n      <td>101</td>\n      <td>gradient</td>\n      <td>suboptimal</td>\n      <td>custom</td>\n      <td>{'model__booster': 'dart', 'model__colsample_b...</td>\n      <td>2023-01-02 17:32:03.977619</td>\n      <td>0.71985</td>\n      <td>6.836689</td>\n    </tr>\n  </tbody>\n</table>\n<p>5 rows × 24 columns</p>\n</div>"
     },
     "execution_count": 9,
     "metadata": {},
     "output_type": "execute_result"
    }
   ],
   "source": [
    "dataset_versions_df"
   ]
  },
  {
   "cell_type": "code",
   "execution_count": 10,
   "metadata": {
    "collapsed": false,
    "execution": {
     "iopub.execute_input": "2023-02-06T20:28:20.161034Z",
     "iopub.status.busy": "2023-02-06T20:28:20.160381Z",
     "iopub.status.idle": "2023-02-06T20:28:20.171006Z",
     "shell.execute_reply": "2023-02-06T20:28:20.170106Z",
     "shell.execute_reply.started": "2023-02-06T20:28:20.161003Z"
    },
    "jupyter": {
     "outputs_hidden": false
    }
   },
   "outputs": [
    {
     "data": {
      "text/plain": "                                  best score   best time silver score  \\\nxg boost (tree) (v11)               0.731739   71.020266     0.603614   \nstacked model [knn,lgb,xgb] (v06)   0.730645   18.923249          NaN   \nxg boost (tree) (v09)               0.728969   89.213733     0.725406   \nxg boost (tree) (v06)               0.727132  134.174901     0.725989   \nxg boost (tree) (v10)               0.726364   69.306042      0.71985   \n\n                                  silver time    best method  \\\nxg boost (tree) (v11)               14.210391         custom   \nstacked model [knn,lgb,xgb] (v06)         NaN  random search   \nxg boost (tree) (v09)               28.616881         custom   \nxg boost (tree) (v06)              217.285686  random search   \nxg boost (tree) (v10)                6.836689         custom   \n\n                                               silver method best is shared  \nxg boost (tree) (v11)                          random search          False  \nstacked model [knn,lgb,xgb] (v06)                        NaN          False  \nxg boost (tree) (v09)              rerun best: random search          False  \nxg boost (tree) (v06)                          random search          False  \nxg boost (tree) (v10)                                 custom          False  ",
      "text/html": "<div>\n<style scoped>\n    .dataframe tbody tr th:only-of-type {\n        vertical-align: middle;\n    }\n\n    .dataframe tbody tr th {\n        vertical-align: top;\n    }\n\n    .dataframe thead th {\n        text-align: right;\n    }\n</style>\n<table border=\"1\" class=\"dataframe\">\n  <thead>\n    <tr style=\"text-align: right;\">\n      <th></th>\n      <th>best score</th>\n      <th>best time</th>\n      <th>silver score</th>\n      <th>silver time</th>\n      <th>best method</th>\n      <th>silver method</th>\n      <th>best is shared</th>\n    </tr>\n  </thead>\n  <tbody>\n    <tr>\n      <th>xg boost (tree) (v11)</th>\n      <td>0.731739</td>\n      <td>71.020266</td>\n      <td>0.603614</td>\n      <td>14.210391</td>\n      <td>custom</td>\n      <td>random search</td>\n      <td>False</td>\n    </tr>\n    <tr>\n      <th>stacked model [knn,lgb,xgb] (v06)</th>\n      <td>0.730645</td>\n      <td>18.923249</td>\n      <td>NaN</td>\n      <td>NaN</td>\n      <td>random search</td>\n      <td>NaN</td>\n      <td>False</td>\n    </tr>\n    <tr>\n      <th>xg boost (tree) (v09)</th>\n      <td>0.728969</td>\n      <td>89.213733</td>\n      <td>0.725406</td>\n      <td>28.616881</td>\n      <td>custom</td>\n      <td>rerun best: random search</td>\n      <td>False</td>\n    </tr>\n    <tr>\n      <th>xg boost (tree) (v06)</th>\n      <td>0.727132</td>\n      <td>134.174901</td>\n      <td>0.725989</td>\n      <td>217.285686</td>\n      <td>random search</td>\n      <td>random search</td>\n      <td>False</td>\n    </tr>\n    <tr>\n      <th>xg boost (tree) (v10)</th>\n      <td>0.726364</td>\n      <td>69.306042</td>\n      <td>0.71985</td>\n      <td>6.836689</td>\n      <td>custom</td>\n      <td>custom</td>\n      <td>False</td>\n    </tr>\n  </tbody>\n</table>\n</div>"
     },
     "execution_count": 10,
     "metadata": {},
     "output_type": "execute_result"
    }
   ],
   "source": [
    "df_summary_1_vs_2 = dataset_versions_df[\n",
    "    ['best score', 'best time', 'silver score', 'silver time', 'best method', 'silver method', 'best is shared']]\n",
    "df_summary_1_vs_2"
   ]
  },
  {
   "cell_type": "code",
   "execution_count": 11,
   "metadata": {
    "collapsed": false,
    "execution": {
     "iopub.execute_input": "2023-02-06T20:28:20.174812Z",
     "iopub.status.busy": "2023-02-06T20:28:20.174264Z",
     "iopub.status.idle": "2023-02-06T20:28:20.188030Z",
     "shell.execute_reply": "2023-02-06T20:28:20.186996Z",
     "shell.execute_reply.started": "2023-02-06T20:28:20.174784Z"
    },
    "jupyter": {
     "outputs_hidden": false
    }
   },
   "outputs": [
    {
     "data": {
      "text/plain": "                                  best score   best time silver score  \\\nxg boost (tree) (v11)               0.731739   71.020266     0.603614   \nstacked model [knn,lgb,xgb] (v06)   0.730645   18.923249          NaN   \nxg boost (tree) (v09)               0.728969   89.213733     0.725406   \nxg boost (tree) (v06)               0.727132  134.174901     0.725989   \nxg boost (tree) (v10)               0.726364   69.306042      0.71985   \n\n                                  silver time  \\\nxg boost (tree) (v11)               14.210391   \nstacked model [knn,lgb,xgb] (v06)         NaN   \nxg boost (tree) (v09)               28.616881   \nxg boost (tree) (v06)              217.285686   \nxg boost (tree) (v10)                6.836689   \n\n                                                                         best params  \\\nxg boost (tree) (v11)              {'model__booster': 'dart', 'model__colsample_b...   \nstacked model [knn,lgb,xgb] (v06)  {'model__knn1__leaf_size': 3, 'model__knn1__me...   \nxg boost (tree) (v09)              {'model__booster': 'dart', 'model__colsample_b...   \nxg boost (tree) (v06)              {'model__booster': 'dart', 'model__colsample_b...   \nxg boost (tree) (v10)              {'model__booster': 'dart', 'model__colsample_b...   \n\n                                                                       silver params  \\\nxg boost (tree) (v11)              {'model__booster': 'gbtree', 'model__early_sto...   \nstacked model [knn,lgb,xgb] (v06)                                                NaN   \nxg boost (tree) (v09)              {'model__booster': 'gbtree', 'model__colsample...   \nxg boost (tree) (v06)              {'model__booster': 'dart', 'model__colsample_b...   \nxg boost (tree) (v10)              {'model__booster': 'dart', 'model__colsample_b...   \n\n                                  best is shared    best method  \\\nxg boost (tree) (v11)                      False         custom   \nstacked model [knn,lgb,xgb] (v06)          False  random search   \nxg boost (tree) (v09)                      False         custom   \nxg boost (tree) (v06)                      False  random search   \nxg boost (tree) (v10)                      False         custom   \n\n                                               silver method  \nxg boost (tree) (v11)                          random search  \nstacked model [knn,lgb,xgb] (v06)                        NaN  \nxg boost (tree) (v09)              rerun best: random search  \nxg boost (tree) (v06)                          random search  \nxg boost (tree) (v10)                                 custom  ",
      "text/html": "<div>\n<style scoped>\n    .dataframe tbody tr th:only-of-type {\n        vertical-align: middle;\n    }\n\n    .dataframe tbody tr th {\n        vertical-align: top;\n    }\n\n    .dataframe thead th {\n        text-align: right;\n    }\n</style>\n<table border=\"1\" class=\"dataframe\">\n  <thead>\n    <tr style=\"text-align: right;\">\n      <th></th>\n      <th>best score</th>\n      <th>best time</th>\n      <th>silver score</th>\n      <th>silver time</th>\n      <th>best params</th>\n      <th>silver params</th>\n      <th>best is shared</th>\n      <th>best method</th>\n      <th>silver method</th>\n    </tr>\n  </thead>\n  <tbody>\n    <tr>\n      <th>xg boost (tree) (v11)</th>\n      <td>0.731739</td>\n      <td>71.020266</td>\n      <td>0.603614</td>\n      <td>14.210391</td>\n      <td>{'model__booster': 'dart', 'model__colsample_b...</td>\n      <td>{'model__booster': 'gbtree', 'model__early_sto...</td>\n      <td>False</td>\n      <td>custom</td>\n      <td>random search</td>\n    </tr>\n    <tr>\n      <th>stacked model [knn,lgb,xgb] (v06)</th>\n      <td>0.730645</td>\n      <td>18.923249</td>\n      <td>NaN</td>\n      <td>NaN</td>\n      <td>{'model__knn1__leaf_size': 3, 'model__knn1__me...</td>\n      <td>NaN</td>\n      <td>False</td>\n      <td>random search</td>\n      <td>NaN</td>\n    </tr>\n    <tr>\n      <th>xg boost (tree) (v09)</th>\n      <td>0.728969</td>\n      <td>89.213733</td>\n      <td>0.725406</td>\n      <td>28.616881</td>\n      <td>{'model__booster': 'dart', 'model__colsample_b...</td>\n      <td>{'model__booster': 'gbtree', 'model__colsample...</td>\n      <td>False</td>\n      <td>custom</td>\n      <td>rerun best: random search</td>\n    </tr>\n    <tr>\n      <th>xg boost (tree) (v06)</th>\n      <td>0.727132</td>\n      <td>134.174901</td>\n      <td>0.725989</td>\n      <td>217.285686</td>\n      <td>{'model__booster': 'dart', 'model__colsample_b...</td>\n      <td>{'model__booster': 'dart', 'model__colsample_b...</td>\n      <td>False</td>\n      <td>random search</td>\n      <td>random search</td>\n    </tr>\n    <tr>\n      <th>xg boost (tree) (v10)</th>\n      <td>0.726364</td>\n      <td>69.306042</td>\n      <td>0.71985</td>\n      <td>6.836689</td>\n      <td>{'model__booster': 'dart', 'model__colsample_b...</td>\n      <td>{'model__booster': 'dart', 'model__colsample_b...</td>\n      <td>False</td>\n      <td>custom</td>\n      <td>custom</td>\n    </tr>\n  </tbody>\n</table>\n</div>"
     },
     "execution_count": 11,
     "metadata": {},
     "output_type": "execute_result"
    }
   ],
   "source": [
    "df_1_vs_2b = dataset_versions_df[\n",
    "    ['best score', 'best time', 'silver score', 'silver time', 'best params', 'silver params', 'best is shared','best method','silver method']]\n",
    "df_1_vs_2b\n",
    "#{'model__booster': 'gbtree', 'model__early_stopping_rounds': None, 'model__gamma': 100, 'model__learning_rate': None, 'model__max_delta_step': 0, 'model__max_depth': 6, 'model__min_child_weight': ..."
   ]
  },
  {
   "cell_type": "code",
   "execution_count": 12,
   "metadata": {
    "collapsed": false,
    "execution": {
     "iopub.execute_input": "2023-02-06T20:28:20.189711Z",
     "iopub.status.busy": "2023-02-06T20:28:20.189339Z",
     "iopub.status.idle": "2023-02-06T20:28:20.626436Z",
     "shell.execute_reply": "2023-02-06T20:28:20.625559Z",
     "shell.execute_reply.started": "2023-02-06T20:28:20.189687Z"
    },
    "jupyter": {
     "outputs_hidden": false
    }
   },
   "outputs": [
    {
     "ename": "KeyError",
     "evalue": "'model__colsample_bytree'",
     "output_type": "error",
     "traceback": [
      "\u001B[0;31m---------------------------------------------------------------------------\u001B[0m",
      "\u001B[0;31mKeyError\u001B[0m                                  Traceback (most recent call last)",
      "Cell \u001B[0;32mIn[12], line 28\u001B[0m\n\u001B[1;32m     26\u001B[0m         res[each]\u001B[38;5;241m.\u001B[39mextend([d2[each]])\n\u001B[1;32m     27\u001B[0m     \u001B[38;5;28;01melse\u001B[39;00m:\n\u001B[0;32m---> 28\u001B[0m         d1[each] \u001B[38;5;241m=\u001B[39m \u001B[43md2\u001B[49m\u001B[43m[\u001B[49m\u001B[43meach\u001B[49m\u001B[43m]\u001B[49m\n\u001B[1;32m     30\u001B[0m including_most_recent \u001B[38;5;241m=\u001B[39m \u001B[38;5;28;01mTrue\u001B[39;00m\n\u001B[1;32m     31\u001B[0m \u001B[38;5;28;01mif\u001B[39;00m including_most_recent \u001B[38;5;241m==\u001B[39m \u001B[38;5;28;01mTrue\u001B[39;00m:\n",
      "\u001B[0;31mKeyError\u001B[0m: 'model__colsample_bytree'"
     ]
    }
   ],
   "source": [
    "#df_1_vs_2b.iloc[0]['best params']\n",
    "#df_1_vs_2b.iloc[0]['silver params']\n",
    "d1 = dataset_versions_df.iloc[0]['best params']\n",
    "d2 = dataset_versions_df.iloc[0]['silver params']\n",
    "d99 = dataset_versions_df.iloc[0]['_params']\n",
    "d1['score'] = dataset_versions_df.iloc[0]['best score']\n",
    "d2['score'] = dataset_versions_df.iloc[0]['silver score']\n",
    "d99['score'] = dataset_versions_df.iloc[0]['_score']\n",
    "d1['time'] = dataset_versions_df.iloc[0]['best time']\n",
    "d2['time'] = dataset_versions_df.iloc[0]['silver time']\n",
    "d99['time'] = dataset_versions_df.iloc[0]['_train time']\n",
    "d1['date run'] = dataset_versions_df.iloc[0]['best run date']\n",
    "d2['date run'] = dataset_versions_df.iloc[0]['silver run date']\n",
    "d99['date run'] = dataset_versions_df.iloc[0]['date']\n",
    "d1['method'] = dataset_versions_df.iloc[0]['best method']\n",
    "d2['method'] = dataset_versions_df.iloc[0]['silver method']\n",
    "d99['method'] = dataset_versions_df.iloc[0]['_method']\n",
    "\n",
    "res = {}\n",
    "for each in d1:\n",
    "    res[each] = [d1[each]]\n",
    "    if each in d2:\n",
    "        if each not in res:\n",
    "            d2[each]\n",
    "            res[each]\n",
    "        res[each].extend([d2[each]])\n",
    "    else:\n",
    "        d1[each] = d2[each]\n",
    "\n",
    "including_most_recent = True\n",
    "if including_most_recent == True:\n",
    "    for each in d1:\n",
    "        if each in d99:\n",
    "            if each not in res:\n",
    "                d2[each]\n",
    "                res[each]\n",
    "            res[each].extend([d99[each]])\n",
    "        else:\n",
    "            #d1[each] = d99[each]\n",
    "            pass\n",
    "\n",
    "pd.set_option('display.max_rows', 60)\n",
    "\n",
    "run_comparison = pd.DataFrame.from_dict(res).T\n",
    "if including_most_recent:\n",
    "    run_comparison.columns = ['best model','runner-up model','most recent model']\n",
    "else:\n",
    "    run_comparison.columns = ['best model','runner-up model']\n",
    "print(f\"Analysing the hyperparameters for the best performing version (for {model})\")\n",
    "run_comparison"
   ]
  },
  {
   "cell_type": "code",
   "execution_count": null,
   "metadata": {
    "collapsed": false,
    "jupyter": {
     "outputs_hidden": false
    }
   },
   "outputs": [],
   "source": []
  },
  {
   "cell_type": "code",
   "execution_count": null,
   "metadata": {
    "collapsed": false,
    "jupyter": {
     "outputs_hidden": false
    }
   },
   "outputs": [],
   "source": []
  }
 ],
 "metadata": {
  "kernelspec": {
   "display_name": "Python 3 (ipykernel)",
   "language": "python",
   "name": "python3"
  },
  "language_info": {
   "codemirror_mode": {
    "name": "ipython",
    "version": 3
   },
   "file_extension": ".py",
   "mimetype": "text/x-python",
   "name": "python",
   "nbconvert_exporter": "python",
   "pygments_lexer": "ipython3",
   "version": "3.9.13"
  }
 },
 "nbformat": 4,
 "nbformat_minor": 4
}
