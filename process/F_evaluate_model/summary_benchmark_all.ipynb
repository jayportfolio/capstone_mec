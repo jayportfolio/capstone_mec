{
 "cells": [
  {
   "cell_type": "code",
   "execution_count": 5,
   "metadata": {
    "execution": {
     "iopub.execute_input": "2022-12-14T00:00:52.632296Z",
     "iopub.status.busy": "2022-12-14T00:00:52.631912Z",
     "iopub.status.idle": "2022-12-14T00:00:53.255004Z",
     "shell.execute_reply": "2022-12-14T00:00:53.254157Z",
     "shell.execute_reply.started": "2022-12-14T00:00:52.632223Z"
    }
   },
   "outputs": [
    {
     "data": {
      "text/plain": "                                        best score best time  \\\nneural network m16 mega + dropout (v09)   0.618589    378.44   \n\n                                        Mean Absolute Error Accuracy  \\\nneural network m16 mega + dropout (v09)                 50507.392604   \n\n                                        Mean Squared Error Accuracy  \\\nneural network m16 mega + dropout (v09)           4308578497.196369   \n\n                                        R square Accuracy  \\\nneural network m16 mega + dropout (v09)          0.618589   \n\n                                        Root Mean Squared Error  \\\nneural network m16 mega + dropout (v09)             65639.76308   \n\n                                                      best run date  \\\nneural network m16 mega + dropout (v09)  2023-02-04 20:50:55.273598   \n\n                                                                               best method  \\\nneural network m16 mega + dropout (v09)  loss=4.75e+04 valloss=5.06e+04 +valsplit=0.1 +...   \n\n                                        best is shared suboptimal  \nneural network m16 mega + dropout (v09)          False    pending  ",
      "text/html": "<div>\n<style scoped>\n    .dataframe tbody tr th:only-of-type {\n        vertical-align: middle;\n    }\n\n    .dataframe tbody tr th {\n        vertical-align: top;\n    }\n\n    .dataframe thead th {\n        text-align: right;\n    }\n</style>\n<table border=\"1\" class=\"dataframe\">\n  <thead>\n    <tr style=\"text-align: right;\">\n      <th></th>\n      <th>best score</th>\n      <th>best time</th>\n      <th>Mean Absolute Error Accuracy</th>\n      <th>Mean Squared Error Accuracy</th>\n      <th>R square Accuracy</th>\n      <th>Root Mean Squared Error</th>\n      <th>best run date</th>\n      <th>best method</th>\n      <th>best is shared</th>\n      <th>suboptimal</th>\n    </tr>\n  </thead>\n  <tbody>\n    <tr>\n      <th>neural network m16 mega + dropout (v09)</th>\n      <td>0.618589</td>\n      <td>378.44</td>\n      <td>50507.392604</td>\n      <td>4308578497.196369</td>\n      <td>0.618589</td>\n      <td>65639.76308</td>\n      <td>2023-02-04 20:50:55.273598</td>\n      <td>loss=4.75e+04 valloss=5.06e+04 +valsplit=0.1 +...</td>\n      <td>False</td>\n      <td>pending</td>\n    </tr>\n  </tbody>\n</table>\n</div>"
     },
     "execution_count": 5,
     "metadata": {},
     "output_type": "execute_result"
    }
   ],
   "source": [
    "import pandas as pd\n",
    "\n",
    "dff = pd.read_json('results.json')\n",
    "\n",
    "version = 'v11'\n",
    "version = 'v09'\n",
    "version = 'all'\n",
    "\n",
    "if version == 'all':\n",
    "    vNN_columns = dff.columns\n",
    "else:\n",
    "    vNN_columns = [c for c in dff.columns if version in c]\n",
    "\n",
    "dataset_versions_df = dff[vNN_columns].T.sort_values(\"best score\", ascending=False)\n",
    "dataset_versions_df_summary = dataset_versions_df[['best score', 'best time', 'Mean Absolute Error Accuracy', 'Mean Squared Error Accuracy', 'R square Accuracy', 'Root Mean Squared Error', 'best run date', 'best method', 'best is shared', \"suboptimal\"]]\n",
    "dataset_versions_df_summary"
   ]
  },
  {
   "cell_type": "code",
   "execution_count": 3,
   "metadata": {
    "execution": {
     "iopub.execute_input": "2022-12-11T17:58:27.432682Z",
     "iopub.status.busy": "2022-12-11T17:58:27.432324Z",
     "iopub.status.idle": "2022-12-11T17:58:27.457488Z",
     "shell.execute_reply": "2022-12-11T17:58:27.455698Z",
     "shell.execute_reply.started": "2022-12-11T17:58:27.432654Z"
    }
   },
   "outputs": [
    {
     "data": {
      "text/plain": "                                        Mean Absolute Error Accuracy  \\\nneural network m16 mega + dropout (v09)                 50507.392604   \n\n                                        Mean Squared Error Accuracy  \\\nneural network m16 mega + dropout (v09)           4308578497.196369   \n\n                                        R square Accuracy  \\\nneural network m16 mega + dropout (v09)          0.618589   \n\n                                        Root Mean Squared Error  \\\nneural network m16 mega + dropout (v09)             65639.76308   \n\n                                                                                   _method  \\\nneural network m16 mega + dropout (v09)  loss=4.75e+04 valloss=5.06e+04 +valsplit=0.1 +...   \n\n                                                               _params  \\\nneural network m16 mega + dropout (v09)  mae +epochs=400 +learn=0.0003   \n\n                                           _score _train time best is shared  \\\nneural network m16 mega + dropout (v09)  0.618589      378.44          False   \n\n                                                                               best method  \\\nneural network m16 mega + dropout (v09)  loss=4.75e+04 valloss=5.06e+04 +valsplit=0.1 +...   \n\n                                                           best params  \\\nneural network m16 mega + dropout (v09)  mae +epochs=400 +learn=0.0003   \n\n                                                      best run date  \\\nneural network m16 mega + dropout (v09)  2023-02-04 20:50:55.273598   \n\n                                        best score best time  \\\nneural network m16 mega + dropout (v09)   0.618589    378.44   \n\n                                                               date  \\\nneural network m16 mega + dropout (v09)  2023-02-04 20:50:55.273598   \n\n                                                          first run  \\\nneural network m16 mega + dropout (v09)  2023-02-04 20:50:55.273713   \n\n                                        random_state   run_env suboptimal  \nneural network m16 mega + dropout (v09)          101  gradient    pending  ",
      "text/html": "<div>\n<style scoped>\n    .dataframe tbody tr th:only-of-type {\n        vertical-align: middle;\n    }\n\n    .dataframe tbody tr th {\n        vertical-align: top;\n    }\n\n    .dataframe thead th {\n        text-align: right;\n    }\n</style>\n<table border=\"1\" class=\"dataframe\">\n  <thead>\n    <tr style=\"text-align: right;\">\n      <th></th>\n      <th>Mean Absolute Error Accuracy</th>\n      <th>Mean Squared Error Accuracy</th>\n      <th>R square Accuracy</th>\n      <th>Root Mean Squared Error</th>\n      <th>_method</th>\n      <th>_params</th>\n      <th>_score</th>\n      <th>_train time</th>\n      <th>best is shared</th>\n      <th>best method</th>\n      <th>best params</th>\n      <th>best run date</th>\n      <th>best score</th>\n      <th>best time</th>\n      <th>date</th>\n      <th>first run</th>\n      <th>random_state</th>\n      <th>run_env</th>\n      <th>suboptimal</th>\n    </tr>\n  </thead>\n  <tbody>\n    <tr>\n      <th>neural network m16 mega + dropout (v09)</th>\n      <td>50507.392604</td>\n      <td>4308578497.196369</td>\n      <td>0.618589</td>\n      <td>65639.76308</td>\n      <td>loss=4.75e+04 valloss=5.06e+04 +valsplit=0.1 +...</td>\n      <td>mae +epochs=400 +learn=0.0003</td>\n      <td>0.618589</td>\n      <td>378.44</td>\n      <td>False</td>\n      <td>loss=4.75e+04 valloss=5.06e+04 +valsplit=0.1 +...</td>\n      <td>mae +epochs=400 +learn=0.0003</td>\n      <td>2023-02-04 20:50:55.273598</td>\n      <td>0.618589</td>\n      <td>378.44</td>\n      <td>2023-02-04 20:50:55.273598</td>\n      <td>2023-02-04 20:50:55.273713</td>\n      <td>101</td>\n      <td>gradient</td>\n      <td>pending</td>\n    </tr>\n  </tbody>\n</table>\n</div>"
     },
     "execution_count": 3,
     "metadata": {},
     "output_type": "execute_result"
    }
   ],
   "source": [
    "dataset_versions_df"
   ]
  },
  {
   "cell_type": "code",
   "execution_count": 4,
   "metadata": {
    "collapsed": false,
    "execution": {
     "iopub.execute_input": "2022-12-11T17:58:27.459481Z",
     "iopub.status.busy": "2022-12-11T17:58:27.459230Z",
     "iopub.status.idle": "2022-12-11T17:58:27.472176Z",
     "shell.execute_reply": "2022-12-11T17:58:27.471352Z",
     "shell.execute_reply.started": "2022-12-11T17:58:27.459459Z"
    },
    "jupyter": {
     "outputs_hidden": false
    }
   },
   "outputs": [
    {
     "ename": "KeyError",
     "evalue": "\"['silver score', 'silver time', 'silver method'] not in index\"",
     "output_type": "error",
     "traceback": [
      "\u001B[0;31m---------------------------------------------------------------------------\u001B[0m",
      "\u001B[0;31mKeyError\u001B[0m                                  Traceback (most recent call last)",
      "Input \u001B[0;32mIn [4]\u001B[0m, in \u001B[0;36m<cell line: 1>\u001B[0;34m()\u001B[0m\n\u001B[0;32m----> 1\u001B[0m df_summary_1_vs_2 \u001B[38;5;241m=\u001B[39m \u001B[43mdataset_versions_df\u001B[49m\u001B[43m[\u001B[49m\u001B[43m[\u001B[49m\u001B[38;5;124;43m'\u001B[39;49m\u001B[38;5;124;43mbest score\u001B[39;49m\u001B[38;5;124;43m'\u001B[39;49m\u001B[43m,\u001B[49m\u001B[43m \u001B[49m\u001B[38;5;124;43m'\u001B[39;49m\u001B[38;5;124;43mbest time\u001B[39;49m\u001B[38;5;124;43m'\u001B[39;49m\u001B[43m,\u001B[49m\u001B[43m \u001B[49m\u001B[38;5;124;43m'\u001B[39;49m\u001B[38;5;124;43msilver score\u001B[39;49m\u001B[38;5;124;43m'\u001B[39;49m\u001B[43m,\u001B[49m\u001B[43m \u001B[49m\u001B[38;5;124;43m'\u001B[39;49m\u001B[38;5;124;43msilver time\u001B[39;49m\u001B[38;5;124;43m'\u001B[39;49m\u001B[43m,\u001B[49m\u001B[43m \u001B[49m\u001B[38;5;124;43m'\u001B[39;49m\u001B[38;5;124;43mbest method\u001B[39;49m\u001B[38;5;124;43m'\u001B[39;49m\u001B[43m,\u001B[49m\u001B[43m \u001B[49m\u001B[38;5;124;43m'\u001B[39;49m\u001B[38;5;124;43msilver method\u001B[39;49m\u001B[38;5;124;43m'\u001B[39;49m\u001B[43m,\u001B[49m\u001B[43m \u001B[49m\u001B[38;5;124;43m'\u001B[39;49m\u001B[38;5;124;43mbest is shared\u001B[39;49m\u001B[38;5;124;43m'\u001B[39;49m\u001B[43m]\u001B[49m\u001B[43m]\u001B[49m\n\u001B[1;32m      2\u001B[0m df_summary_1_vs_2\n",
      "File \u001B[0;32m/usr/local/lib/python3.9/dist-packages/pandas/core/frame.py:3511\u001B[0m, in \u001B[0;36mDataFrame.__getitem__\u001B[0;34m(self, key)\u001B[0m\n\u001B[1;32m   3509\u001B[0m     \u001B[38;5;28;01mif\u001B[39;00m is_iterator(key):\n\u001B[1;32m   3510\u001B[0m         key \u001B[38;5;241m=\u001B[39m \u001B[38;5;28mlist\u001B[39m(key)\n\u001B[0;32m-> 3511\u001B[0m     indexer \u001B[38;5;241m=\u001B[39m \u001B[38;5;28;43mself\u001B[39;49m\u001B[38;5;241;43m.\u001B[39;49m\u001B[43mcolumns\u001B[49m\u001B[38;5;241;43m.\u001B[39;49m\u001B[43m_get_indexer_strict\u001B[49m\u001B[43m(\u001B[49m\u001B[43mkey\u001B[49m\u001B[43m,\u001B[49m\u001B[43m \u001B[49m\u001B[38;5;124;43m\"\u001B[39;49m\u001B[38;5;124;43mcolumns\u001B[39;49m\u001B[38;5;124;43m\"\u001B[39;49m\u001B[43m)\u001B[49m[\u001B[38;5;241m1\u001B[39m]\n\u001B[1;32m   3513\u001B[0m \u001B[38;5;66;03m# take() does not accept boolean indexers\u001B[39;00m\n\u001B[1;32m   3514\u001B[0m \u001B[38;5;28;01mif\u001B[39;00m \u001B[38;5;28mgetattr\u001B[39m(indexer, \u001B[38;5;124m\"\u001B[39m\u001B[38;5;124mdtype\u001B[39m\u001B[38;5;124m\"\u001B[39m, \u001B[38;5;28;01mNone\u001B[39;00m) \u001B[38;5;241m==\u001B[39m \u001B[38;5;28mbool\u001B[39m:\n",
      "File \u001B[0;32m/usr/local/lib/python3.9/dist-packages/pandas/core/indexes/base.py:5782\u001B[0m, in \u001B[0;36mIndex._get_indexer_strict\u001B[0;34m(self, key, axis_name)\u001B[0m\n\u001B[1;32m   5779\u001B[0m \u001B[38;5;28;01melse\u001B[39;00m:\n\u001B[1;32m   5780\u001B[0m     keyarr, indexer, new_indexer \u001B[38;5;241m=\u001B[39m \u001B[38;5;28mself\u001B[39m\u001B[38;5;241m.\u001B[39m_reindex_non_unique(keyarr)\n\u001B[0;32m-> 5782\u001B[0m \u001B[38;5;28;43mself\u001B[39;49m\u001B[38;5;241;43m.\u001B[39;49m\u001B[43m_raise_if_missing\u001B[49m\u001B[43m(\u001B[49m\u001B[43mkeyarr\u001B[49m\u001B[43m,\u001B[49m\u001B[43m \u001B[49m\u001B[43mindexer\u001B[49m\u001B[43m,\u001B[49m\u001B[43m \u001B[49m\u001B[43maxis_name\u001B[49m\u001B[43m)\u001B[49m\n\u001B[1;32m   5784\u001B[0m keyarr \u001B[38;5;241m=\u001B[39m \u001B[38;5;28mself\u001B[39m\u001B[38;5;241m.\u001B[39mtake(indexer)\n\u001B[1;32m   5785\u001B[0m \u001B[38;5;28;01mif\u001B[39;00m \u001B[38;5;28misinstance\u001B[39m(key, Index):\n\u001B[1;32m   5786\u001B[0m     \u001B[38;5;66;03m# GH 42790 - Preserve name from an Index\u001B[39;00m\n",
      "File \u001B[0;32m/usr/local/lib/python3.9/dist-packages/pandas/core/indexes/base.py:5845\u001B[0m, in \u001B[0;36mIndex._raise_if_missing\u001B[0;34m(self, key, indexer, axis_name)\u001B[0m\n\u001B[1;32m   5842\u001B[0m     \u001B[38;5;28;01mraise\u001B[39;00m \u001B[38;5;167;01mKeyError\u001B[39;00m(\u001B[38;5;124mf\u001B[39m\u001B[38;5;124m\"\u001B[39m\u001B[38;5;124mNone of [\u001B[39m\u001B[38;5;132;01m{\u001B[39;00mkey\u001B[38;5;132;01m}\u001B[39;00m\u001B[38;5;124m] are in the [\u001B[39m\u001B[38;5;132;01m{\u001B[39;00maxis_name\u001B[38;5;132;01m}\u001B[39;00m\u001B[38;5;124m]\u001B[39m\u001B[38;5;124m\"\u001B[39m)\n\u001B[1;32m   5844\u001B[0m not_found \u001B[38;5;241m=\u001B[39m \u001B[38;5;28mlist\u001B[39m(ensure_index(key)[missing_mask\u001B[38;5;241m.\u001B[39mnonzero()[\u001B[38;5;241m0\u001B[39m]]\u001B[38;5;241m.\u001B[39munique())\n\u001B[0;32m-> 5845\u001B[0m \u001B[38;5;28;01mraise\u001B[39;00m \u001B[38;5;167;01mKeyError\u001B[39;00m(\u001B[38;5;124mf\u001B[39m\u001B[38;5;124m\"\u001B[39m\u001B[38;5;132;01m{\u001B[39;00mnot_found\u001B[38;5;132;01m}\u001B[39;00m\u001B[38;5;124m not in index\u001B[39m\u001B[38;5;124m\"\u001B[39m)\n",
      "\u001B[0;31mKeyError\u001B[0m: \"['silver score', 'silver time', 'silver method'] not in index\""
     ]
    }
   ],
   "source": [
    "df_summary_1_vs_2 = dataset_versions_df[['best score', 'best time', 'silver score', 'silver time', 'best method', 'silver method', 'best is shared']]\n",
    "df_summary_1_vs_2"
   ]
  },
  {
   "cell_type": "code",
   "execution_count": null,
   "metadata": {
    "collapsed": false,
    "execution": {
     "iopub.execute_input": "2022-12-11T17:58:27.473783Z",
     "iopub.status.busy": "2022-12-11T17:58:27.473530Z",
     "iopub.status.idle": "2022-12-11T17:58:27.490023Z",
     "shell.execute_reply": "2022-12-11T17:58:27.489187Z",
     "shell.execute_reply.started": "2022-12-11T17:58:27.473760Z"
    },
    "jupyter": {
     "outputs_hidden": false
    }
   },
   "outputs": [],
   "source": [
    "df_1_vs_2b = dataset_versions_df[['best score', 'best time', 'silver score', 'silver time', 'best params', 'silver params', 'best is shared']]\n",
    "df_1_vs_2b\n",
    "#{'model__booster': 'gbtree', 'model__early_stopping_rounds': None, 'model__gamma': 100, 'model__learning_rate': None, 'model__max_delta_step': 0, 'model__max_depth': 6, 'model__min_child_weight': ..."
   ]
  }
 ],
 "metadata": {
  "kernelspec": {
   "display_name": "Python 3 (ipykernel)",
   "language": "python",
   "name": "python3"
  },
  "language_info": {
   "codemirror_mode": {
    "name": "ipython",
    "version": 3
   },
   "file_extension": ".py",
   "mimetype": "text/x-python",
   "name": "python",
   "nbconvert_exporter": "python",
   "pygments_lexer": "ipython3",
   "version": "3.9.13"
  }
 },
 "nbformat": 4,
 "nbformat_minor": 4
}
